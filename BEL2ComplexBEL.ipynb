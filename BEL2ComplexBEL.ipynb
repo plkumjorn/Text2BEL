{
 "cells": [
  {
   "cell_type": "code",
   "execution_count": 219,
   "metadata": {
    "collapsed": true
   },
   "outputs": [],
   "source": [
    "import csv, re"
   ]
  },
  {
   "cell_type": "code",
   "execution_count": 220,
   "metadata": {
    "collapsed": true
   },
   "outputs": [],
   "source": [
    "def loadSentences(filename):\n",
    "    f = open(filename)\n",
    "    reader = csv.DictReader(f, delimiter='\\t')\n",
    "    sentences = [row for row in reader]\n",
    "    return sentences"
   ]
  },
  {
   "cell_type": "code",
   "execution_count": 221,
   "metadata": {},
   "outputs": [],
   "source": [
    "def tokeniseBEL(bs):\n",
    "    terms = re.findall(r'(a|bp|path|g|m|r|p)\\(([A-Z]+)\\:([^\"]*?|\".*?\")(,pmod\\(P\\))?\\)', bs)\n",
    "    # print(terms)\n",
    "    bs = re.subn(r'(a|bp|path|g|m|r|p)\\(([A-Z]+)\\:([^\"]*?|\".*?\")(,pmod\\(P\\))?\\)', '@', bs)\n",
    "    assert bs[1] == len(terms)\n",
    "    # print(bs)\n",
    "    relations = re.findall(r'\\s((?:increases)|(?:decreases)|(?:directlyIncreases)|(?:directlyDecreases))\\s', bs[0])\n",
    "    # print(relations)\n",
    "    bs = re.subn(r'\\s((?:increases)|(?:decreases)|(?:directlyIncreases)|(?:directlyDecreases))\\s', '&', bs[0])\n",
    "    assert bs[1] == len(relations)\n",
    "    # print(bs)\n",
    "    functions = re.findall(r'((?:act)|(?:complex)|(?:tloc)|(?:deg)|(?:kin)|(?:tscript)|(?:cat))', bs[0])\n",
    "    # print(functions)\n",
    "    bs = re.subn(r'((?:act)|(?:complex)|(?:tloc)|(?:deg)|(?:kin)|(?:tscript)|(?:cat))', '$', bs[0])\n",
    "    assert bs[1] == len(functions)\n",
    "    # print(bs[0]) # Term = @, Function = $, Relation = &\n",
    "    template = bs[0]\n",
    "    return stringToTokens(template, terms, relations, functions)"
   ]
  },
  {
   "cell_type": "code",
   "execution_count": 222,
   "metadata": {
    "collapsed": true
   },
   "outputs": [],
   "source": [
    "def normaliseBEL(bs):\n",
    "    return ''.join(tokeniseBEL(bs))"
   ]
  },
  {
   "cell_type": "code",
   "execution_count": 223,
   "metadata": {
    "collapsed": true
   },
   "outputs": [],
   "source": [
    "def stringToTokens(template, terms, relations, functions):\n",
    "    aList = []\n",
    "    relationDict = {'increases':' -> ', 'decreases':' -| ', 'directlyIncreases':' -> ', 'directlyDecreases':' -| '}\n",
    "    functionDict = {'act':'act', 'complex':'complex', 'tloc': 'tloc', 'deg': 'deg', 'kin':'act', 'tscript':'act', 'cat':'act'}\n",
    "    for s in template:\n",
    "        if s == '@': # Term\n",
    "            termTuple = terms.pop(0)\n",
    "            if termTuple[3] == '':\n",
    "                aList.extend([termTuple[0], '(', termTuple[1]+':'+termTuple[2], ')'])\n",
    "            else:\n",
    "                aList.extend([termTuple[0], '(', termTuple[1]+':'+termTuple[2], ',', 'pmod(P)', ')'])\n",
    "        elif s == '&': # Relation\n",
    "            aList.append(relationDict[relations.pop(0)])\n",
    "        elif s == '$': # Function\n",
    "            aList.append(functionDict[functions.pop(0)])\n",
    "        else: # brackets and comma\n",
    "            aList.append(s)\n",
    "    return aList"
   ]
  },
  {
   "cell_type": "code",
   "execution_count": 224,
   "metadata": {},
   "outputs": [
    {
     "name": "stdout",
     "output_type": "stream",
     "text": [
      "['cat(p(HGNC:UBE2L3)) increases deg(p(HGNC:FOS))', 'cat(p(HGNC:UBE2L3)) increases deg(p(HGNC:MYC))', 'cat(p(HGNC:UBE2L3)) increases deg(p(HGNC:TP53))']\n",
      "6353\n"
     ]
    }
   ],
   "source": [
    "sentences = loadSentences('dataset/Training.BEL')\n",
    "BELofSentence = dict()\n",
    "for s in sentences:\n",
    "    sid = s['Sentence-ID'][4:]\n",
    "    if sid not in BELofSentence:\n",
    "        BELofSentence[sid] = [s['BEL original'].strip()]\n",
    "    else:\n",
    "        BELofSentence[sid].append(s['BEL original'].strip())\n",
    "print(BELofSentence['10000092'])\n",
    "print(len(BELofSentence))"
   ]
  },
  {
   "cell_type": "code",
   "execution_count": 225,
   "metadata": {},
   "outputs": [
    {
     "name": "stdout",
     "output_type": "stream",
     "text": [
      "['act', '(', 'p', '(', 'HGNC:UBE2L3', ')', ')', ' -> ', 'deg', '(', 'p', '(', 'HGNC:FOS', ')', ')']\n",
      "['act', '(', 'p', '(', 'HGNC:UBE2L3', ')', ')', ' -> ', 'deg', '(', 'p', '(', 'HGNC:MYC', ')', ')']\n",
      "['act', '(', 'p', '(', 'HGNC:UBE2L3', ')', ')', ' -> ', 'deg', '(', 'p', '(', 'HGNC:TP53', ')', ')']\n",
      "act(p(HGNC:UBE2L3)) -> deg(p(HGNC:FOS))\n",
      "act(p(HGNC:UBE2L3)) -> deg(p(HGNC:MYC))\n",
      "act(p(HGNC:UBE2L3)) -> deg(p(HGNC:TP53))\n"
     ]
    }
   ],
   "source": [
    "for s in BELofSentence['10000092']:\n",
    "    print(tokeniseBEL(s))\n",
    "for s in BELofSentence['10000092']:\n",
    "    print(normaliseBEL(s))"
   ]
  },
  {
   "cell_type": "code",
   "execution_count": 226,
   "metadata": {},
   "outputs": [],
   "source": [
    "import unittest\n",
    "\n",
    "class TestDemo(unittest.TestCase):\n",
    "    @classmethod\n",
    "    def setUpClass(cls):\n",
    "        cls.s1 = 'cat(p(HGNC:UBE2L3)) increases deg(p(HGNC:FOS))'\n",
    "        cls.s2 = 'a(CHEBI:\"(2Z,3Z)-bis\\{amino[(2-aminophenyl)sulfanyl]methylidene\\}butanedinitrile\") decreases (path(MESHD:Hyperoxia) increases tscript(p(MGI:Nfe2l2)))'\n",
    "        cls.s3 = 'path(MESHD:Hyperoxia) increases p(MGI:Nfe2l2,pmod(P))'\n",
    "        cls.s4 = 'cat(p(HGNC:HIF1AN)) directlyDecreases complex(p(HGNC:HIF1A),p(HGNC:EP300))'\n",
    "    \n",
    "    def test_normaliseBEL(self):\n",
    "        self.assertEqual(normaliseBEL(self.s1), 'act(p(HGNC:UBE2L3)) -> deg(p(HGNC:FOS))')\n",
    "        self.assertEqual(normaliseBEL(self.s2), 'a(CHEBI:\"(2Z,3Z)-bis\\{amino[(2-aminophenyl)sulfanyl]methylidene\\}butanedinitrile\") -| (path(MESHD:Hyperoxia) -> act(p(MGI:Nfe2l2)))')\n",
    "        self.assertEqual(normaliseBEL(self.s3), 'path(MESHD:Hyperoxia) -> p(MGI:Nfe2l2,pmod(P))')\n",
    "        self.assertEqual(normaliseBEL(self.s4), 'act(p(HGNC:HIF1AN)) -| complex(p(HGNC:HIF1A),p(HGNC:EP300))')\n",
    "    \n",
    "    def test_tokeniseBEL(self):\n",
    "        self.assertEqual(tokeniseBEL(self.s1), ['act','(', 'p', '(', 'HGNC:UBE2L3', ')', ')', ' -> ', 'deg', '(', 'p', '(', 'HGNC:FOS', ')', ')'])\n",
    "        self.assertEqual(tokeniseBEL(self.s2), ['a', '(', 'CHEBI:\"(2Z,3Z)-bis\\\\{amino[(2-aminophenyl)sulfanyl]methylidene\\\\}butanedinitrile\"', ')', ' -| ', '(', 'path', '(', 'MESHD:Hyperoxia', ')', ' -> ', 'act', '(', 'p', '(', 'MGI:Nfe2l2', ')', ')', ')'])\n",
    "        self.assertEqual(tokeniseBEL(self.s3), ['path', '(', 'MESHD:Hyperoxia', ')', ' -> ', 'p', '(', 'MGI:Nfe2l2', ',', 'pmod(P)', ')'])\n",
    "        self.assertEqual(tokeniseBEL(self.s4), ['act', '(', 'p', '(', 'HGNC:HIF1AN', ')', ')', ' -| ', 'complex', '(', 'p', '(', 'HGNC:HIF1A', ')', ',', 'p', '(', 'HGNC:EP300', ')', ')'])"
   ]
  },
  {
   "cell_type": "code",
   "execution_count": 227,
   "metadata": {},
   "outputs": [
    {
     "name": "stderr",
     "output_type": "stream",
     "text": [
      "..\n",
      "----------------------------------------------------------------------\n",
      "Ran 2 tests in 0.002s\n",
      "\n",
      "OK\n"
     ]
    }
   ],
   "source": [
    "if __name__ == '__main__':\n",
    "    unittest.main(argv=['first-arg-is-ignored'], exit=False)"
   ]
  }
 ],
 "metadata": {
  "kernelspec": {
   "display_name": "Python 3",
   "language": "python",
   "name": "python3"
  },
  "language_info": {
   "codemirror_mode": {
    "name": "ipython",
    "version": 3
   },
   "file_extension": ".py",
   "mimetype": "text/x-python",
   "name": "python",
   "nbconvert_exporter": "python",
   "pygments_lexer": "ipython3",
   "version": "3.6.3"
  }
 },
 "nbformat": 4,
 "nbformat_minor": 2
}
